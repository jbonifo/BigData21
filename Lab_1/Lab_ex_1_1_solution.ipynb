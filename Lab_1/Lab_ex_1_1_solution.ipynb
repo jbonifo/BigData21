{
 "cells": [
  {
   "cell_type": "markdown",
   "metadata": {},
   "source": [
    "# Ex 1.1: MapReduce with Python Functional Programming"
   ]
  },
  {
   "cell_type": "markdown",
   "metadata": {},
   "source": [
    "#### Python *map* function\n",
    "Python has e built in *map* function -> [see python docs](https://docs.python.org/3/library/functions.html#map)\n",
    "* ``map(function, iterable object)`` applies a function to every member of the object (=data structure)\n",
    "* iterable objects are e.g. lists, dicts, arrays, ... but also custom data structures (see [here](https://thispointer.com/python-how-to-make-a-class-iterable-create-iterator-class-for-it/))"
   ]
  },
  {
   "cell_type": "code",
   "execution_count": 1,
   "metadata": {},
   "outputs": [
    {
     "name": "stdout",
     "output_type": "stream",
     "text": [
      "[1, 2, 3, 4]\n",
      "[2, 3, 4, 5]\n"
     ]
    }
   ],
   "source": [
    "#example\n",
    "def Plus1(a):\n",
    "    return a+1\n",
    "\n",
    "A = [1,2,3,4]\n",
    "print(A)\n",
    "B = list(map(Plus1,A)) #need to cast map output to list\n",
    "print(B)"
   ]
  },
  {
   "cell_type": "code",
   "execution_count": 2,
   "metadata": {},
   "outputs": [
    {
     "name": "stdout",
     "output_type": "stream",
     "text": [
      "[1, 2, 3, 4]\n",
      "[3, 4, 5, 6]\n",
      "[2, 3, 6, 7]\n"
     ]
    }
   ],
   "source": [
    "#example 2 - map with an function that takes arguments\n",
    "from functools import partial\n",
    "\n",
    "def PlusX(a,x):\n",
    "    return a+x\n",
    "\n",
    "\n",
    "A = [1,2,3,4]\n",
    "print(A)\n",
    "B = list(map(partial(PlusX,x=2),A)) #use partial to fix parameters \n",
    "print(B)\n",
    "\n",
    "C = [1,1,3,3]\n",
    "D = list(map(PlusX,A,C)) #or input multiple iterable objects\n",
    "print(D)"
   ]
  },
  {
   "cell_type": "code",
   "execution_count": 3,
   "metadata": {},
   "outputs": [
    {
     "name": "stdout",
     "output_type": "stream",
     "text": [
      "[2, 3, 4, 5]\n"
     ]
    }
   ],
   "source": [
    "#example 3 - map with lmbda functions\n",
    "A = [1,2,3,4]\n",
    "B = list(map(lambda x:x+1,A ))#implement function directly with lambda\n",
    "print(B)"
   ]
  },
  {
   "cell_type": "code",
   "execution_count": 4,
   "metadata": {},
   "outputs": [
    {
     "data": {
      "text/plain": [
       "array([[12.33417452, 17.14497696, 16.00685115,  7.55041329, 18.45279541,\n",
       "        10.01298473, 11.25954871, 14.00308364,  9.43980646,  0.07017779],\n",
       "       [ 2.14933667, 19.91025454, 11.19041743,  2.38677662, 11.31697306,\n",
       "         2.8198834 ,  1.1341572 ,  4.02960006,  8.95756376,  9.19092896],\n",
       "       [13.42254176,  6.76989882, 18.49859147, 11.70168954, 15.75025229,\n",
       "        11.56349338, 12.67003946,  1.24723963, 17.27973304, 11.57341363],\n",
       "       [10.25630409,  1.29908753,  8.04817571, 16.66528511, 17.18693823,\n",
       "         2.13442425, 18.03207601, 11.80575492, 16.40602251,  1.07435455],\n",
       "       [ 4.72401401, 16.30256299, 10.30126299,  8.27330132,  9.28287265,\n",
       "        16.74575409,  6.81529358,  3.22085635,  3.48829608,  9.7598424 ],\n",
       "       [ 1.89795435, 18.07423974,  3.51901306, 16.21809783, 16.66003845,\n",
       "         7.44031896,  5.54531609,  4.87090022,  6.60561964,  0.08528396],\n",
       "       [13.28895888,  6.71792486, 16.99624418, 10.00188423, 18.97868221,\n",
       "         6.63215326, 11.16670274, 11.78966843,  6.57642023,  6.83775806],\n",
       "       [ 6.38415325,  2.05122866,  3.07274312, 15.63856423,  3.9977666 ,\n",
       "        14.85397389, 19.56087689,  3.27631857, 18.97854123, 17.02134558],\n",
       "       [15.80995014,  7.64109961,  4.88474822, 18.60177756,  5.08005557,\n",
       "        18.56467145,  6.78348731,  2.27292605,  3.49985354,  6.02065901],\n",
       "       [ 7.19105885, 13.92204178, 15.74472278, 15.73656174,  6.35874916,\n",
       "        18.07551303, 17.89670108,  1.57235841, 15.67873938,  0.51000618]])"
      ]
     },
     "execution_count": 4,
     "metadata": {},
     "output_type": "execute_result"
    }
   ],
   "source": [
    "#example 4 - Numpy has map \"build in\"\n",
    "import numpy as np\n",
    "A = np.random.rand(10,10)*20\n",
    "A"
   ]
  },
  {
   "cell_type": "code",
   "execution_count": 5,
   "metadata": {},
   "outputs": [],
   "source": [
    "#apply function directly on each element of an array\n",
    "def isLarger10(x):\n",
    "    return x>10\n",
    "\n",
    "B = isLarger10(A)"
   ]
  },
  {
   "cell_type": "code",
   "execution_count": 6,
   "metadata": {},
   "outputs": [
    {
     "data": {
      "text/plain": [
       "array([[ True,  True,  True, False,  True,  True,  True,  True, False,\n",
       "        False],\n",
       "       [False,  True,  True, False,  True, False, False, False, False,\n",
       "        False],\n",
       "       [ True, False,  True,  True,  True,  True,  True, False,  True,\n",
       "         True],\n",
       "       [ True, False, False,  True,  True, False,  True,  True,  True,\n",
       "        False],\n",
       "       [False,  True,  True, False, False,  True, False, False, False,\n",
       "        False],\n",
       "       [False,  True, False,  True,  True, False, False, False, False,\n",
       "        False],\n",
       "       [ True, False,  True,  True,  True, False,  True,  True, False,\n",
       "        False],\n",
       "       [False, False, False,  True, False,  True,  True, False,  True,\n",
       "         True],\n",
       "       [ True, False, False,  True, False,  True, False, False, False,\n",
       "        False],\n",
       "       [False,  True,  True,  True, False,  True,  True, False,  True,\n",
       "        False]])"
      ]
     },
     "execution_count": 6,
     "metadata": {},
     "output_type": "execute_result"
    }
   ],
   "source": [
    "B"
   ]
  },
  {
   "cell_type": "markdown",
   "metadata": {},
   "source": [
    "#### *Reduce* in Python\n",
    "*functools* also provides a *reduce* function. Again, it will take a function and one ore more iterable objects as arguments. (see [API](https://docs.python.org/3/library/functools.html#functools.reduce))"
   ]
  },
  {
   "cell_type": "code",
   "execution_count": 7,
   "metadata": {},
   "outputs": [
    {
     "name": "stdout",
     "output_type": "stream",
     "text": [
      "The sum of the list elements is : 17\n",
      "The maximum element of the list is : 6\n"
     ]
    }
   ],
   "source": [
    "# importing functools for reduce() \n",
    "import functools \n",
    "  \n",
    "# initializing list \n",
    "lis = [ 1 , 3, 5, 6, 2, ] \n",
    "  \n",
    "def addIt(a,b):\n",
    "    return a+b\n",
    "\n",
    "# using reduce to compute sum of list \n",
    "print (\"The sum of the list elements is : \",end=\"\") \n",
    "print (functools.reduce(addIt,lis)) \n",
    "  \n",
    "# using reduce to compute maximum element from list \n",
    "print (\"The maximum element of the list is : \",end=\"\") \n",
    "print (functools.reduce(lambda a,b : a if a > b else b,lis)) "
   ]
  },
  {
   "cell_type": "markdown",
   "metadata": {},
   "source": [
    "#### Splitting"
   ]
  },
  {
   "cell_type": "code",
   "execution_count": 8,
   "metadata": {},
   "outputs": [
    {
     "name": "stdout",
     "output_type": "stream",
     "text": [
      "[1, 2, 3]\n",
      "[4, 5, 6]\n",
      "[7, 8, 9]\n"
     ]
    }
   ],
   "source": [
    "import more_itertools as mit\n",
    "\n",
    "A=[1,2,3,4,5,6,7,8,9]\n",
    "B=list(mit.chunked(A, 3)) #split into lists of max size 3\n",
    "\n",
    "for i in B: #iterate over the spitts \n",
    "    print(i)"
   ]
  },
  {
   "cell_type": "code",
   "execution_count": 9,
   "metadata": {},
   "outputs": [
    {
     "name": "stdout",
     "output_type": "stream",
     "text": [
      "['t', 'h', 'i', 's', ' ']\n",
      "['i', 's', ' ', 'a', ' ']\n",
      "['s', 'h', 'o', 'r', 't']\n",
      "[' ', 't', 'e', 'x', 't']\n",
      "[' ', 'i', 'n', ' ', 'f']\n",
      "['o', 'r', 'm', ' ', 'o']\n",
      "['f', ' ', 'a', ' ', 'p']\n",
      "['y', 't', 'h', 'o', 'n']\n",
      "[' ', 's', 't', 'r', 'i']\n",
      "['n', 'g']\n"
     ]
    }
   ],
   "source": [
    "A='this is a short text in form of a python string'\n",
    "B=list(mit.chunked(A, 5)) #split into lists of max size 5\n",
    "\n",
    "for i in B: #iterate over the spitts \n",
    "    print(i)"
   ]
  },
  {
   "cell_type": "markdown",
   "metadata": {},
   "source": [
    "## Exercise: build a simple *Character Count* Algorithm based on the above *split, map* and *reduce* operators "
   ]
  },
  {
   "cell_type": "code",
   "execution_count": 10,
   "metadata": {},
   "outputs": [],
   "source": [
    "#some text from NYTimes\n",
    "text = ' Byron Spencer, handing out water and burgers to protesters outside Los Angeles City Hall, said he was both “elated and defeated” by word of the new charges. He said he had seen countless surges of outrage over police brutality against black men, only to have it happen again. “I’m 55, I’m black and I’m male — I’ve seen the cycle,” he said. “It’s almost like PTSD constantly having this conversation with my son.” Cierra Sesay reacted to the charges at a demonstration in the shadow of the State Capitol in Denver. “It’s amazing, it’s another box we can check,” she said. “But it goes up so much higher. It’s about the system.” In San Francisco, Tevita Tomasi — who is of Polynesian descent and described himself as “dark and tall and big” — said he regularly faced racial profiling, evidence of the bigger forces that must be overcome. On Wednesday, he distributed bottled water at what he said was his first demonstration, but one that would not be his last. What would stop him from protesting?'"
   ]
  },
  {
   "cell_type": "markdown",
   "metadata": {},
   "source": [
    "* HINT: use list pf *python* [dictionaries](https://docs.python.org/3/tutorial/datastructures.html#dictionaries) to store the character counts in the map\n",
    "* HINT 2: merge the dicts in reduce"
   ]
  },
  {
   "cell_type": "code",
   "execution_count": 11,
   "metadata": {},
   "outputs": [],
   "source": [
    "def CharCount(char):\n",
    "    return {char:1}"
   ]
  },
  {
   "cell_type": "code",
   "execution_count": 12,
   "metadata": {
    "scrolled": true
   },
   "outputs": [
    {
     "name": "stdout",
     "output_type": "stream",
     "text": [
      "{'a': 1}\n",
      "{'a': 1}\n",
      "{'b': 1}\n"
     ]
    }
   ],
   "source": [
    "#test the count function\n",
    "\n",
    "print(CharCount('a'))\n",
    "print(CharCount('a'))\n",
    "print(CharCount('b'))\n"
   ]
  },
  {
   "cell_type": "code",
   "execution_count": 28,
   "metadata": {},
   "outputs": [
    {
     "data": {
      "text/plain": [
       "<map at 0x7f7894ac2190>"
      ]
     },
     "execution_count": 28,
     "metadata": {},
     "output_type": "execute_result"
    }
   ],
   "source": [
    "#map returns a map object\n",
    "map(CharCount,text)"
   ]
  },
  {
   "cell_type": "code",
   "execution_count": 29,
   "metadata": {},
   "outputs": [],
   "source": [
    "#we can transform the map into a list\n",
    "mapping=list(map(CharCount,text))"
   ]
  },
  {
   "cell_type": "code",
   "execution_count": 30,
   "metadata": {},
   "outputs": [
    {
     "data": {
      "text/plain": [
       "[{' ': 1},\n",
       " {'B': 1},\n",
       " {'y': 1},\n",
       " {'r': 1},\n",
       " {'o': 1},\n",
       " {'n': 1},\n",
       " {' ': 1},\n",
       " {'S': 1},\n",
       " {'p': 1},\n",
       " {'e': 1}]"
      ]
     },
     "execution_count": 30,
     "metadata": {},
     "output_type": "execute_result"
    }
   ],
   "source": [
    "mapping[:10]"
   ]
  },
  {
   "cell_type": "code",
   "execution_count": 24,
   "metadata": {},
   "outputs": [],
   "source": [
    "\n",
    "def sumUp(a,b): #merge dictionaries - a:output b:single item to be merged\n",
    "    key = list(b.keys())[0] #get the only key in b \n",
    "    if key in a: #check if char is in a\n",
    "        a[key] += 1\n",
    "    else:\n",
    "        a[key] = 1\n",
    "    return a\n",
    "    "
   ]
  },
  {
   "cell_type": "code",
   "execution_count": 27,
   "metadata": {},
   "outputs": [
    {
     "data": {
      "text/plain": [
       "{' ': 701,\n",
       " 'B': 8,\n",
       " 'y': 52,\n",
       " 'r': 152,\n",
       " 'o': 208,\n",
       " 'n': 196,\n",
       " 'S': 20,\n",
       " 'p': 40,\n",
       " 'e': 356,\n",
       " 'c': 100,\n",
       " ',': 44,\n",
       " 'h': 156,\n",
       " 'a': 288,\n",
       " 'd': 144,\n",
       " 'i': 196,\n",
       " 'g': 76,\n",
       " 'u': 68,\n",
       " 't': 288,\n",
       " 'w': 52,\n",
       " 'b': 64,\n",
       " 's': 236,\n",
       " 'L': 4,\n",
       " 'A': 4,\n",
       " 'l': 112,\n",
       " 'C': 12,\n",
       " 'H': 8,\n",
       " '“': 24,\n",
       " 'f': 48,\n",
       " '”': 24,\n",
       " '.': 40,\n",
       " 'v': 36,\n",
       " 'k': 20,\n",
       " 'm': 72,\n",
       " 'I': 32,\n",
       " '’': 32,\n",
       " '5': 8,\n",
       " '—': 12,\n",
       " 'P': 8,\n",
       " 'T': 12,\n",
       " 'D': 8,\n",
       " 'z': 4,\n",
       " 'x': 4,\n",
       " 'F': 4,\n",
       " 'O': 4,\n",
       " 'W': 8,\n",
       " '?': 4}"
      ]
     },
     "execution_count": 27,
     "metadata": {},
     "output_type": "execute_result"
    }
   ],
   "source": [
    "functools.reduce(sumUp, mapping)\n"
   ]
  },
  {
   "cell_type": "code",
   "execution_count": null,
   "metadata": {},
   "outputs": [],
   "source": []
  }
 ],
 "metadata": {
  "kernelspec": {
   "display_name": "Python 3",
   "language": "python",
   "name": "python3"
  },
  "language_info": {
   "codemirror_mode": {
    "name": "ipython",
    "version": 3
   },
   "file_extension": ".py",
   "mimetype": "text/x-python",
   "name": "python",
   "nbconvert_exporter": "python",
   "pygments_lexer": "ipython3",
   "version": "3.8.5"
  }
 },
 "nbformat": 4,
 "nbformat_minor": 4
}
